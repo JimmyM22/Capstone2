{
 "cells": [
  {
   "cell_type": "code",
   "execution_count": 1,
   "metadata": {},
   "outputs": [],
   "source": [
    "import pandas as pd\n",
    "import numpy as np\n",
    "import matplotlib.pyplot as plt\n",
    "import matplotlib.patches as mpatches\n",
    "import re\n",
    "import seaborn as sns\n",
    "from statistics import mode \n",
    "%matplotlib inline\n",
    "\n",
    "df = pd.read_csv('Desktop\\Thinkful Directory\\heart.csv', encoding=\"UTF-8\")"
   ]
  },
  {
   "cell_type": "markdown",
   "metadata": {},
   "source": [
    "# Factors of Heart Disease"
   ]
  },
  {
   "cell_type": "markdown",
   "metadata": {},
   "source": [
    "## An explorative analysis of four factors relating to heart disease"
   ]
  },
  {
   "cell_type": "markdown",
   "metadata": {},
   "source": [
    "1. Introduction\n",
    "2. Sex\n",
    "3. Age\n",
    "4. Cholestrol\n",
    "5. Chest Pain\n",
    "6. Research Proposal"
   ]
  },
  {
   "cell_type": "markdown",
   "metadata": {},
   "source": [
    "### 1. Introduction"
   ]
  },
  {
   "cell_type": "code",
   "execution_count": 2,
   "metadata": {
    "scrolled": false
   },
   "outputs": [
    {
     "name": "stdout",
     "output_type": "stream",
     "text": [
      "This data set contains 303 patients. For each patient, 14 attributes revolving the patient's current health. I will be focusing on five attributes. The last attributed indicates if the patient has heart disease. According to UCI's website, the orignial   dataset was donated over 30 years ago on 1988-07-01 and almost all the paitients are over 30.\n",
      "\n",
      "Sources:\n",
      "Data file taken from: https://www.kaggle.com/ronitf/heart-disease-uci/downloads/heart.csv/1\n",
      "The original source of the data: https://archive.ics.uci.edu/ml/datasets/heart+Disease\n",
      "Attribute clarifications by user IntiPic: https://www.kaggle.com/ronitf/heart-disease-uci/discussion/105877#latest-612520\n",
      "\n",
      "Acknowledgements\n",
      "Creators:\n",
      "1. Hungarian Institute of Cardiology. Budapest: Andras Janosi, M.D.\n",
      "2. University Hospital, Zurich, Switzerland: William Steinbrunn, M.D.\n",
      "3. University Hospital, Basel, Switzerland: Matthias Pfisterer, M.D.\n",
      "4. V.A. Medical Center, Long Beach and Cleveland Clinic Foundation: Robert Detrano, M.D., Ph.D.\n",
      "Donor: David W. Aha (aha '@' ics.uci.edu) (714) 856-8779\n",
      "\n",
      "\n"
     ]
    }
   ],
   "source": [
    "#intro text\n",
    "print(\"This data set contains 303 patients. For each patient, 14 attributes revolving the patient's current health. I will be focusing on five attributes. The last attributed indicates if the patient has heart disease. According to UCI's website, the orignial   dataset was donated over 30 years ago on 1988-07-01 and almost all the paitients are over 30.\") \n",
    "print()\n",
    "\n",
    "print(\"Sources:\")\n",
    "print(\"Data file taken from: https://www.kaggle.com/ronitf/heart-disease-uci/downloads/heart.csv/1\")\n",
    "print(\"The original source of the data: https://archive.ics.uci.edu/ml/datasets/heart+Disease\")\n",
    "print(\"Attribute clarifications by user IntiPic: https://www.kaggle.com/ronitf/heart-disease-uci/discussion/105877#latest-612520\")\n",
    "\n",
    "print()\n",
    "\n",
    "print(\"Acknowledgements\")\n",
    "print(\"Creators:\")\n",
    "print(\"1. Hungarian Institute of Cardiology. Budapest: Andras Janosi, M.D.\")\n",
    "print(\"2. University Hospital, Zurich, Switzerland: William Steinbrunn, M.D.\") \n",
    "print(\"3. University Hospital, Basel, Switzerland: Matthias Pfisterer, M.D.\")\n",
    "print(\"4. V.A. Medical Center, Long Beach and Cleveland Clinic Foundation: Robert Detrano, M.D., Ph.D.\")\n",
    "\n",
    "print(\"Donor: David W. Aha (aha '@' ics.uci.edu) (714) 856-8779\")\n",
    "\n",
    "print()\n",
    "print()"
   ]
  },
  {
   "cell_type": "code",
   "execution_count": 3,
   "metadata": {},
   "outputs": [
    {
     "data": {
      "text/html": [
       "<div>\n",
       "<style scoped>\n",
       "    .dataframe tbody tr th:only-of-type {\n",
       "        vertical-align: middle;\n",
       "    }\n",
       "\n",
       "    .dataframe tbody tr th {\n",
       "        vertical-align: top;\n",
       "    }\n",
       "\n",
       "    .dataframe thead th {\n",
       "        text-align: right;\n",
       "    }\n",
       "</style>\n",
       "<table border=\"1\" class=\"dataframe\">\n",
       "  <thead>\n",
       "    <tr style=\"text-align: right;\">\n",
       "      <th></th>\n",
       "      <th>age</th>\n",
       "      <th>sex</th>\n",
       "      <th>cp</th>\n",
       "      <th>trestbps</th>\n",
       "      <th>chol</th>\n",
       "      <th>fbs</th>\n",
       "      <th>restecg</th>\n",
       "      <th>thalach</th>\n",
       "      <th>exang</th>\n",
       "      <th>oldpeak</th>\n",
       "      <th>slope</th>\n",
       "      <th>ca</th>\n",
       "      <th>thal</th>\n",
       "      <th>target</th>\n",
       "    </tr>\n",
       "  </thead>\n",
       "  <tbody>\n",
       "    <tr>\n",
       "      <th>0</th>\n",
       "      <td>63</td>\n",
       "      <td>Male</td>\n",
       "      <td>3</td>\n",
       "      <td>145</td>\n",
       "      <td>233</td>\n",
       "      <td>1</td>\n",
       "      <td>0</td>\n",
       "      <td>150</td>\n",
       "      <td>0</td>\n",
       "      <td>2.3</td>\n",
       "      <td>0</td>\n",
       "      <td>0</td>\n",
       "      <td>1</td>\n",
       "      <td>No Heart Disease</td>\n",
       "    </tr>\n",
       "    <tr>\n",
       "      <th>1</th>\n",
       "      <td>37</td>\n",
       "      <td>Male</td>\n",
       "      <td>2</td>\n",
       "      <td>130</td>\n",
       "      <td>250</td>\n",
       "      <td>0</td>\n",
       "      <td>1</td>\n",
       "      <td>187</td>\n",
       "      <td>0</td>\n",
       "      <td>3.5</td>\n",
       "      <td>0</td>\n",
       "      <td>0</td>\n",
       "      <td>2</td>\n",
       "      <td>No Heart Disease</td>\n",
       "    </tr>\n",
       "    <tr>\n",
       "      <th>2</th>\n",
       "      <td>41</td>\n",
       "      <td>Female</td>\n",
       "      <td>1</td>\n",
       "      <td>130</td>\n",
       "      <td>204</td>\n",
       "      <td>0</td>\n",
       "      <td>0</td>\n",
       "      <td>172</td>\n",
       "      <td>0</td>\n",
       "      <td>1.4</td>\n",
       "      <td>2</td>\n",
       "      <td>0</td>\n",
       "      <td>2</td>\n",
       "      <td>No Heart Disease</td>\n",
       "    </tr>\n",
       "    <tr>\n",
       "      <th>3</th>\n",
       "      <td>56</td>\n",
       "      <td>Male</td>\n",
       "      <td>1</td>\n",
       "      <td>120</td>\n",
       "      <td>236</td>\n",
       "      <td>0</td>\n",
       "      <td>1</td>\n",
       "      <td>178</td>\n",
       "      <td>0</td>\n",
       "      <td>0.8</td>\n",
       "      <td>2</td>\n",
       "      <td>0</td>\n",
       "      <td>2</td>\n",
       "      <td>No Heart Disease</td>\n",
       "    </tr>\n",
       "    <tr>\n",
       "      <th>4</th>\n",
       "      <td>57</td>\n",
       "      <td>Female</td>\n",
       "      <td>0</td>\n",
       "      <td>120</td>\n",
       "      <td>354</td>\n",
       "      <td>0</td>\n",
       "      <td>1</td>\n",
       "      <td>163</td>\n",
       "      <td>1</td>\n",
       "      <td>0.6</td>\n",
       "      <td>2</td>\n",
       "      <td>0</td>\n",
       "      <td>2</td>\n",
       "      <td>No Heart Disease</td>\n",
       "    </tr>\n",
       "  </tbody>\n",
       "</table>\n",
       "</div>"
      ],
      "text/plain": [
       "   age     sex  cp  trestbps  chol  fbs  restecg  thalach  exang  oldpeak  \\\n",
       "0   63    Male   3       145   233    1        0      150      0      2.3   \n",
       "1   37    Male   2       130   250    0        1      187      0      3.5   \n",
       "2   41  Female   1       130   204    0        0      172      0      1.4   \n",
       "3   56    Male   1       120   236    0        1      178      0      0.8   \n",
       "4   57  Female   0       120   354    0        1      163      1      0.6   \n",
       "\n",
       "   slope  ca  thal            target  \n",
       "0      0   0     1  No Heart Disease  \n",
       "1      0   0     2  No Heart Disease  \n",
       "2      2   0     2  No Heart Disease  \n",
       "3      2   0     2  No Heart Disease  \n",
       "4      2   0     2  No Heart Disease  "
      ]
     },
     "execution_count": 3,
     "metadata": {},
     "output_type": "execute_result"
    }
   ],
   "source": [
    "df[\"target\"].replace(0, \"Has Heart Disease\", inplace=True)\n",
    "df[\"target\"].replace(1, \"No Heart Disease\", inplace=True)\n",
    "df[\"sex\"].replace(0, \"Female\", inplace=True)\n",
    "df[\"sex\"].replace(1, \"Male\", inplace=True)\n",
    "df.head()"
   ]
  },
  {
   "cell_type": "markdown",
   "metadata": {},
   "source": [
    "### 2. Sex"
   ]
  },
  {
   "cell_type": "code",
   "execution_count": 4,
   "metadata": {},
   "outputs": [
    {
     "name": "stdout",
     "output_type": "stream",
     "text": [
      "Patients: 303\n",
      "Patients with heart disease: 165\n",
      "Patients without heart disease: 138\n",
      "Male patients: 207\n",
      "Female patients: 96\n",
      "\n",
      "\n"
     ]
    },
    {
     "data": {
      "image/png": "[encoded data removed]",
      "text/plain": [
       "<Figure size 432x288 with 1 Axes>"
      ]
     },
     "metadata": {
      "needs_background": "light"
     },
     "output_type": "display_data"
    },
    {
     "name": "stdout",
     "output_type": "stream",
     "text": [
      "\n",
      "\n"
     ]
    }
   ],
   "source": [
    "#target are patients with heart disease\n",
    "yes_t = df[(df['target'] == \"No Heart Disease\")]\n",
    "#no_t are patients without heart disease\n",
    "no_t = df[(df['target'] == \"Has Heart Disease\")]\n",
    "\n",
    "#filtered data\n",
    "men = df[(df['sex'] == \"Male\")]\n",
    "women = df[(df['sex'] == \"Female\")]\n",
    "\n",
    "men_no_t = df[(df['sex'] == \"Male\") & (df['target'] == \"Has Heart Disease\")]\n",
    "women_no_t = df[(df['sex'] == \"Female\") & (df['target'] == \"Has Heart Disease\")]\n",
    "\n",
    "men_yes_t = df[(df['sex'] == \"Male\") & (df['target'] == \"No Heart Disease\")]\n",
    "women_yes_t = df[(df['sex'] == \"Female\") & (df['target'] == \"No Heart Disease\")]\n",
    "\n",
    "#initial stats\n",
    "print(\"Patients: \" + str(len(df['age'])))\n",
    "print(\"Patients with heart disease: \" + str(len(yes_t)))\n",
    "print(\"Patients without heart disease: \" + str(len(no_t)))\n",
    "print('Male patients: '+ str(len(men)))\n",
    "print('Female patients: '+ str(len(women)))\n",
    "print(\"\\n\")\n",
    "\n",
    "#Grouped Bar Chart\n",
    "labels = ['No Heart Disease', 'With Heart Disease',]\n",
    "male = [len(men_yes_t), len(men_no_t)]\n",
    "female = [len(women_yes_t), len(women_no_t)]\n",
    "\n",
    "x = np.arange(len(labels))  # the label locations\n",
    "width = 0.35  # the width of the bars\n",
    "\n",
    "fig, ax = plt.subplots()\n",
    "rects1 = ax.bar(x - width/2, male, width, label='Male', color=\"lightblue\")\n",
    "rects2 = ax.bar(x + width/2, female, width, label='Female', color=\"yellow\", alpha=.6)\n",
    "ax.set_ylabel('Patients')\n",
    "ax.set_title('Heart Disease By Sex')\n",
    "ax.set_xticks(x)\n",
    "ax.set_yticks([0, 25, 50, 75, 100, 125])\n",
    "ax.set_xticklabels(labels)\n",
    "ax.legend()\n",
    "\n",
    "def autolabel(rects):\n",
    "    \"\"\"Attach a text label above each bar in *rects*, displaying its height.\"\"\"\n",
    "    for rect in rects:\n",
    "        height = rect.get_height()\n",
    "        ax.annotate('{}'.format(height),\n",
    "                    xy=(rect.get_x() + rect.get_width() / 2, height),\n",
    "                    xytext=(0, 3),  # 3 points vertical offset\n",
    "                    textcoords=\"offset points\",\n",
    "                    ha='center', va='bottom')\n",
    "        \n",
    "autolabel(rects1)\n",
    "autolabel(rects2)\n",
    "\n",
    "fig.tight_layout()\n",
    "\n",
    "plt.show()\n",
    "\n",
    "\n",
    "print()\n",
    "print()"
   ]
  },
  {
   "cell_type": "markdown",
   "metadata": {},
   "source": [
    "### 3. Age"
   ]
  },
  {
   "cell_type": "code",
   "execution_count": 5,
   "metadata": {},
   "outputs": [
    {
     "data": {
      "image/png": "[encoded data removed]",
      "text/plain": [
       "<Figure size 432x288 with 2 Axes>"
      ]
     },
     "metadata": {
      "needs_background": "light"
     },
     "output_type": "display_data"
    },
    {
     "name": "stdout",
     "output_type": "stream",
     "text": [
      "\n"
     ]
    },
    {
     "data": {
      "image/png": "[encoded data removed]",
      "text/plain": [
       "<Figure size 432x288 with 1 Axes>"
      ]
     },
     "metadata": {
      "needs_background": "light"
     },
     "output_type": "display_data"
    },
    {
     "data": {
      "image/png": "[encoded data removed]",
      "text/plain": [
       "<Figure size 432x288 with 1 Axes>"
      ]
     },
     "metadata": {
      "needs_background": "light"
     },
     "output_type": "display_data"
    },
    {
     "name": "stdout",
     "output_type": "stream",
     "text": [
      "\n",
      "Average age: 54.366336633663366\n",
      "Youngest patient: 29\n",
      "Oldest patient: 77\n",
      "\n",
      "Average age with heart disease: 57.0\n",
      "Average age with no heart disease: 52.0\n",
      "\n",
      "\n"
     ]
    }
   ],
   "source": [
    "#subplot 1 - Patient Age\n",
    "    #with heart disease\n",
    "plt.subplot(2, 1, 1)\n",
    "plt.plot(no_t['age'], '.', color='orange')\n",
    "plt.title('With Heart Disease vs Without Heart Disease')\n",
    "plt.yticks([30, 40, 60, 80])\n",
    "plt.xlabel('Patient Number')\n",
    "plt.ylabel('Heart Disease: Age')\n",
    "    #without heart disease\n",
    "plt.subplot(2, 1, 2)\n",
    "nhd = plt.plot(yes_t['age'], '.', color='lightskyblue')\n",
    "plt.yticks([30, 40, 60, 80])\n",
    "plt.xlabel('Patient Number')\n",
    "plt.ylabel('No Heart Disease: Age')\n",
    "plt.show()\n",
    "print()\n",
    "\n",
    "plt.hist(no_t['age'], bins=20, color='orange')\n",
    "plt.title('Age With Heart Disease')\n",
    "plt.axvline(no_t['age'].mean(), color='b', linestyle='solid', linewidth=2)\n",
    "plt.axvline(no_t['age'].mean() + no_t['age'].std(), color='b', linestyle='dashed', linewidth=2)\n",
    "plt.axvline(no_t['age'].mean() - no_t['age'].std(), color='b', linestyle='dashed', linewidth=2) \n",
    "plt.yticks([0, 5, 10, 15, 20, 25, 30])\n",
    "plt.xticks([20, 30, 40, 50, 60, 70, 80])\n",
    "plt.xlabel('Age')\n",
    "plt.ylabel('Number of Patients')\n",
    "plt.show()\n",
    "\n",
    "\n",
    "plt.hist(yes_t['age'], bins=20, color='lightskyblue')\n",
    "plt.title('Age Without Heart Disease')\n",
    "plt.axvline(yes_t['age'].mean(), color='b', linestyle='solid', linewidth=2)\n",
    "plt.axvline(yes_t['age'].mean() + yes_t['age'].std(), color='b', linestyle='dashed', linewidth=2)\n",
    "plt.axvline(yes_t['age'].mean() - yes_t['age'].std(), color='b', linestyle='dashed', linewidth=2)\n",
    "plt.yticks([0, 5, 10, 15, 20, 25, 30])\n",
    "plt.xticks([20, 30, 40, 50, 60, 70, 80])\n",
    "plt.xlabel('Age')\n",
    "plt.ylabel('Number of Patients')\n",
    "plt.show()\n",
    "\n",
    "#stats age\n",
    "print()\n",
    "print(\"Average age: \" + str(np.mean(df['age'])))\n",
    "print(\"Youngest patient: \" + str(np.min(df['age'])))\n",
    "print(\"Oldest patient: \" + str(np.max(df['age'])))\n",
    "print()\n",
    "print(\"Average age with heart disease: \" + str(round(np.mean(no_t['age']))))\n",
    "print(\"Average age with no heart disease: \" + str(round(np.mean(yes_t['age']))))\n",
    "\n",
    "\n",
    "print()\n",
    "print()"
   ]
  },
  {
   "cell_type": "markdown",
   "metadata": {},
   "source": [
    "### 4. Cholestrol"
   ]
  },
  {
   "cell_type": "code",
   "execution_count": 6,
   "metadata": {},
   "outputs": [
    {
     "name": "stdout",
     "output_type": "stream",
     "text": [
      "\n",
      "Average cholestrol with heart disease: 251.0\n",
      "Lowest cholestrol patient with Heart disease: 131\n",
      "Highest cholestrol patient with Heart disease: 409\n",
      "Average cholestrol with no heart disease: 242.0\n",
      "Lowest cholestrol patient with no Heart disease: 126\n",
      "Highest cholestrol patient with no Heart disease: 564\n"
     ]
    },
    {
     "data": {
      "image/png": "[encoded data removed]",
      "text/plain": [
       "<Figure size 432x288 with 1 Axes>"
      ]
     },
     "metadata": {
      "needs_background": "light"
     },
     "output_type": "display_data"
    },
    {
     "data": {
      "image/png": "[encoded data removed]",
      "text/plain": [
       "<Figure size 432x288 with 1 Axes>"
      ]
     },
     "metadata": {
      "needs_background": "light"
     },
     "output_type": "display_data"
    },
    {
     "name": "stdout",
     "output_type": "stream",
     "text": [
      "\n",
      "\n",
      "Top 10 Highest Cholestrol \n",
      "\n",
      "     age     sex  cp  trestbps  chol  fbs  restecg  thalach  exang  oldpeak  \\\n",
      "85    67  Female   2       115   564    0        0      160      0      1.6   \n",
      "28    65  Female   2       140   417    1        0      157      0      0.8   \n",
      "246   56  Female   0       134   409    0        0      150      1      1.9   \n",
      "220   63  Female   0       150   407    0        0      154      0      4.0   \n",
      "96    62  Female   0       140   394    0        0      157      0      1.2   \n",
      "39    65  Female   2       160   360    0        0      151      0      0.8   \n",
      "4     57  Female   0       120   354    0        1      163      1      0.6   \n",
      "180   55    Male   0       132   353    0        1      132      1      1.2   \n",
      "161   55  Female   1       132   342    0        1      166      0      1.2   \n",
      "215   43  Female   0       132   341    1        0      136      1      3.0   \n",
      "\n",
      "     slope  ca  thal             target  \n",
      "85       1   0     3   No Heart Disease  \n",
      "28       2   1     2   No Heart Disease  \n",
      "246      1   2     3  Has Heart Disease  \n",
      "220      1   3     3  Has Heart Disease  \n",
      "96       1   0     2   No Heart Disease  \n",
      "39       2   0     2   No Heart Disease  \n",
      "4        2   0     2   No Heart Disease  \n",
      "180      1   1     3  Has Heart Disease  \n",
      "161      2   0     2   No Heart Disease  \n",
      "215      1   0     3  Has Heart Disease   \n",
      "\n",
      "\n",
      "\n",
      "Top 10 Lowest Cholestrol \n",
      "\n",
      "     age     sex  cp  trestbps  chol  fbs  restecg  thalach  exang  oldpeak  \\\n",
      "111   57    Male   2       150   126    1        1      173      0      0.2   \n",
      "301   57    Male   0       130   131    0        1      115      1      1.2   \n",
      "53    44  Female   2       108   141    0        1      175      0      0.6   \n",
      "151   71  Female   0       112   149    0        1      125      0      1.6   \n",
      "267   49    Male   2       118   149    0        0      126      0      0.8   \n",
      "162   41    Male   1       120   157    0        1      182      0      0.0   \n",
      "94    45  Female   1       112   160    0        1      138      0      0.0   \n",
      "204   62  Female   0       160   164    0        0      145      0      6.2   \n",
      "279   61    Male   0       138   166    0        0      125      1      3.6   \n",
      "175   40    Male   0       110   167    0        0      114      1      2.0   \n",
      "\n",
      "     slope  ca  thal             target  \n",
      "111      2   1     3   No Heart Disease  \n",
      "301      1   1     3  Has Heart Disease  \n",
      "53       1   0     2   No Heart Disease  \n",
      "151      1   0     2   No Heart Disease  \n",
      "267      2   3     2  Has Heart Disease  \n",
      "162      2   0     2   No Heart Disease  \n",
      "94       1   0     2   No Heart Disease  \n",
      "204      0   3     3  Has Heart Disease  \n",
      "279      1   1     2  Has Heart Disease  \n",
      "175      1   0     3  Has Heart Disease  \n",
      "\n",
      "\n"
     ]
    }
   ],
   "source": [
    "print()\n",
    "print(\"Average cholestrol with heart disease: \" + str(round(np.mean(no_t['chol'])))) \n",
    "print(\"Lowest cholestrol patient with Heart disease: \" + str(np.min(no_t['chol'])))\n",
    "print(\"Highest cholestrol patient with Heart disease: \" + str(np.max(no_t['chol'])))\n",
    "\n",
    "print(\"Average cholestrol with no heart disease: \" + str(round(np.mean(yes_t['chol'])))) \n",
    "print(\"Lowest cholestrol patient with no Heart disease: \" + str(np.min(yes_t['chol'])))\n",
    "print(\"Highest cholestrol patient with no Heart disease: \" + str(np.max(yes_t['chol'])))\n",
    "\n",
    "chol_no_t = no_t['chol']\n",
    "chol_yes_t = yes_t['chol']\n",
    "\n",
    "plt.hist(chol_no_t, bins=20, color='orange')\n",
    "plt.title('Avg. Cholestrol Levels with Heart Disease')\n",
    "plt.axvline(chol_no_t.mean(), color='b', linestyle='solid', linewidth=2)\n",
    "plt.axvline(chol_no_t.mean() + chol_no_t.std(), color='b', linestyle='dashed', linewidth=2)\n",
    "plt.axvline(chol_no_t.mean() - chol_no_t.std(), color='b', linestyle='dashed', linewidth=2) \n",
    "plt.xlabel('Cholestrol')\n",
    "plt.yticks([0, 5, 10, 15, 20, 25, 30, 35])\n",
    "plt.xticks([100, 200, 300, 400, 500, 600])\n",
    "plt.show()\n",
    "\n",
    "\n",
    "plt.hist(chol_yes_t, bins=20, color='lightskyblue')\n",
    "plt.title('Cholestrol Levels without Heart Disease')\n",
    "plt.axvline(chol_yes_t.mean(), color='b', linestyle='solid', linewidth=2)\n",
    "plt.axvline(chol_yes_t.mean() + chol_yes_t.std(), color='b', linestyle='dashed', linewidth=2)\n",
    "plt.axvline(chol_yes_t.mean() - chol_yes_t.std(), color='b', linestyle='dashed', linewidth=2) \n",
    "plt.xlabel('Cholestrol')\n",
    "plt.yticks([0, 5, 10, 15, 20, 25, 30, 35])\n",
    "plt.xticks([100, 200, 300, 400, 500, 600])\n",
    "plt.show()\n",
    "print()\n",
    "print()\n",
    "\n",
    "print(\"Top 10 Highest Cholestrol \\n\")\n",
    "print(df.nlargest(10, ['chol']), \"\\n\\n\\n\")\n",
    "print(\"Top 10 Lowest Cholestrol \\n\")\n",
    "print(df.nsmallest(10, ['chol'])) \n",
    "\n",
    "print()\n",
    "print()"
   ]
  },
  {
   "cell_type": "markdown",
   "metadata": {},
   "source": [
    "### 5. Chest Pain"
   ]
  },
  {
   "cell_type": "code",
   "execution_count": 46,
   "metadata": {
    "scrolled": false
   },
   "outputs": [
    {
     "name": "stdout",
     "output_type": "stream",
     "text": [
      "Patients: 303\n",
      "Patients with heart disease: 165\n",
      "Patients without heart disease: 138\n",
      "Patients with chest pain: 160\n",
      "Patients with no_chest pain: 143\n",
      "\n"
     ]
    },
    {
     "data": {
      "image/png": "[encoded data removed]",
      "text/plain": [
       "<Figure size 432x288 with 1 Axes>"
      ]
     },
     "metadata": {},
     "output_type": "display_data"
    },
    {
     "name": "stdout",
     "output_type": "stream",
     "text": [
      "\n"
     ]
    },
    {
     "data": {
      "image/png": "[encoded data removed]",
      "text/plain": [
       "<Figure size 432x288 with 1 Axes>"
      ]
     },
     "metadata": {},
     "output_type": "display_data"
    },
    {
     "name": "stdout",
     "output_type": "stream",
     "text": [
      "\n"
     ]
    },
    {
     "data": {
      "image/png": "[encoded data removed]",
      "text/plain": [
       "<Figure size 432x288 with 1 Axes>"
      ]
     },
     "metadata": {
      "needs_background": "light"
     },
     "output_type": "display_data"
    },
    {
     "name": "stdout",
     "output_type": "stream",
     "text": [
      "\n",
      "\n"
     ]
    }
   ],
   "source": [
    "cp = df[(df['cp'] >= 1)]\n",
    "no_cp = df[(df['cp'] == 0)]\n",
    "\n",
    "cp_hd = yes_t[(yes_t['cp'] >= 1)]\n",
    "no_cp_hd = yes_t[(yes_t['cp'] == 0)]\n",
    "\n",
    "cp_no_hd = no_t[(no_t['cp'] >= 1)]\n",
    "no_cp_no_hd = no_t[(no_t['cp'] == 0)]\n",
    "\n",
    "#chest pain stats\n",
    "\n",
    "print(\"Patients: \" + str(len(df['age'])))\n",
    "print(\"Patients with heart disease: \" + str(len(yes_t)))\n",
    "print(\"Patients without heart disease: \" + str(len(no_t)))\n",
    "print('Patients with chest pain: '+ str(len(cp)))\n",
    "print('Patients with no_chest pain: '+ str(len(no_cp)))\n",
    "print()\n",
    "\n",
    "\n",
    "\n",
    "# Piechart Chest Pain: With and without Heart Disease     \n",
    "labels = 'Chest Pain & Heart disease', 'Chest Pain & No Heart Disease'\n",
    "sizes = [126, 34]\n",
    "colors = ['red', 'lightskyblue']\n",
    "explode = (0.1, 0.0) \n",
    "plt.pie(sizes, explode=explode, labels=labels, colors=colors,\n",
    "autopct='%1.1f%%', shadow=True, startangle=90)\n",
    "plt.axis('equal')\n",
    "plt.show()\n",
    "print()\n",
    "\n",
    "# Piechart Chest Pain: With and without Heart Disease     \n",
    "labels = 'No Chest Pain & Heart disease', 'No Chest Pain & No Heart Disease'\n",
    "sizes = [39, 104]\n",
    "colors = ['orange', 'blue']\n",
    "explode = (0.1, 0.0) \n",
    "plt.pie(sizes, explode=explode, labels=labels, colors=colors,\n",
    "autopct='%1.1f%%', shadow=True, startangle=90)\n",
    "plt.axis('equal')\n",
    "plt.show()\n",
    "print()\n",
    "\n",
    "\n",
    "\n",
    "#Group Bar Graph\n",
    "labels = ['No Heart Disease', 'Has Heasrt Disease',]\n",
    "cp = [len(cp_no_hd), len(cp_hd)]\n",
    "no_cp = [len(no_cp_no_hd), len(no_cp_hd)]\n",
    "\n",
    "x = np.arange(len(labels))  # the label locations\n",
    "width = 0.35  # the width of the bars\n",
    "\n",
    "fig, ax = plt.subplots()\n",
    "rects1 = ax.bar(x - width/2, no_cp, width, label='No Chest Pain', color=\"lightblue\")\n",
    "rects2 = ax.bar(x + width/2, cp, width, label='Has Chest Pain', color=\"yellow\", alpha=.6)\n",
    "ax.set_ylabel('Patients')\n",
    "ax.set_title('Heart Disease By Chestpain')\n",
    "ax.set_xticks(x)\n",
    "plt.yticks([0, 20, 40, 60, 80, 100, 120, 140, 160])\n",
    "ax.set_xticklabels(labels)\n",
    "plt.legend(loc='upper center')\n",
    "\n",
    "def autolabel(rects):\n",
    "    \"\"\"Attach a text label above each bar in *rects*, displaying its height.\"\"\"\n",
    "    for rect in rects:\n",
    "        height = rect.get_height()\n",
    "        ax.annotate('{}'.format(height),\n",
    "                    xy=(rect.get_x() + rect.get_width() / 2, height),\n",
    "                    xytext=(0, 3),  # 3 points vertical offset\n",
    "                    textcoords=\"offset points\",\n",
    "                    ha='center', va='bottom')\n",
    "        \n",
    "autolabel(rects1)\n",
    "autolabel(rects2)\n",
    "\n",
    "fig.tight_layout()\n",
    "\n",
    "plt.show()\n",
    "\n",
    "print()\n",
    "print()"
   ]
  },
  {
   "cell_type": "markdown",
   "metadata": {},
   "source": [
    "### 6. Research Proposal"
   ]
  },
  {
   "cell_type": "markdown",
   "metadata": {},
   "source": [
    "After doing some summary statistics on this data set, there is a strong positive correlation with chest pain and having heart disease. Based on this data, 79% of patients who experience some kind of chest pain had heart disease. I wondered if experiencing chest pain would lead patients to change their lifestyle when given an ooportunity.\n",
    "\n",
    "\n",
    "Would access to free physical therapy for patients experiencing chest pain and high cholesterol lead them to lower cholestrol? \n",
    "\n",
    "- Experiment -\n",
    "    - Null Hypothesis: Access to free physical therapy for patients experiencing chest pain and high cholesterol will not lead them to lower their cholestrol.\n",
    "    - Hypothesis: Access to free physical therapy for patients experiencing chest pain and high cholesterol will lead them to lower their cholestrol.\n",
    "\n",
    "- Sample -\n",
    "    - Identify 1000 patients with cholesterol over 240mg/dl and had experienced chest pain in the past four weeks. \n",
    "    - 50 Patients will be randomly chosen to be in the experimental group and will have access to free therapy. \n",
    "    - The physical therapy is a one-to-one 1 hour session once a week for 24 weeks.\n",
    "    - Another 50 Patients will be randomly chosen to be in the control group and will not have access to free therapy.\t\t\n",
    "- Procedure -\n",
    "    - Patients will be surveyed and identified in having high cholesterol, over 240mg/dl, and have experienced chest pain in the past four weeks of being surveyed and identified. \n",
    "    - Choose 50 random patients. Those 50 will have access to one-to-one sessions with a qualified therapist for three months. Each session is 1 hour long and is scheduled once per week. \n",
    "    - The doctor will explain \"It is hospital policy to offer free physical therapy for all patients with cholestrol over 240dmg/dl. The physical therapy will one hour long every week for 24 weeks. \n",
    "    - Every week, the 100 patients will have their cholesterol levels checked and recorded with a take home kit and every month they will see their doctor check thier cholestrol levels.\n",
    "    - 24 weeks after the experiment, we will check back on those patients and ask them if they are more active and run a blood test to check their cholesterol levels.\n",
    "    \n",
    "- Outcomes -\n",
    "We will consider a successful outcome if the experimental patients have at least an average of 10% reduced cholesterol and made a choice to be more active compared to the control group on the final check. \n",
    "\n"
   ]
  }
 ],
 "metadata": {
  "kernelspec": {
   "display_name": "Python 3",
   "language": "python",
   "name": "python3"
  },
  "language_info": {
   "codemirror_mode": {
    "name": "ipython",
    "version": 3
   },
   "file_extension": ".py",
   "mimetype": "text/x-python",
   "name": "python",
   "nbconvert_exporter": "python",
   "pygments_lexer": "ipython3",
   "version": "3.7.4"
  }
 },
 "nbformat": 4,
 "nbformat_minor": 2
}
